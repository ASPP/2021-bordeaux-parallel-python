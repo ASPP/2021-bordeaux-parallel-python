{
 "cells": [
  {
   "cell_type": "markdown",
   "metadata": {},
   "source": [
    "# Serial Python\n",
    "\n",
    "Before we get into parallel processing, let's first consider how the type of problems we'll consider are typically solved in a serial context. We'll focus on problems which always have the following form: "
   ]
  },
  {
   "cell_type": "code",
   "execution_count": 2,
   "metadata": {},
   "outputs": [
    {
     "name": "stdout",
     "output_type": "stream",
     "text": [
      "[0, 1, 4, 9, 16, 25, 36, 49, 64, 81]\n"
     ]
    }
   ],
   "source": [
    "def do_science(x):\n",
    "    \"\"\"For example:\n",
    "    - training a neural network (hyperparameter tuning!)\n",
    "    - getting results from a database\n",
    "    - scraping some websites\n",
    "    - reading files\n",
    "    - sampling monte-carlo style\n",
    "    \"\"\"\n",
    "    return x ** 2  # we don't really do anything ;)\n",
    "\n",
    "results = []\n",
    "input_data = range(10)\n",
    "for x in input_data:\n",
    "    results.append(do_science(x))\n",
    "print(results)"
   ]
  },
  {
   "cell_type": "markdown",
   "metadata": {},
   "source": [
    "This typical structure (or \"smell\" ;) ) is pretty common and most likely all of you have something similar somewhere in your code. It's an excellent opportunity for leveraging parallelism to speed things up. However, first we'll rewrite this code using the builtin `map` function, it makes the code more compact and it will be easier to make this run in parallel. `map` takes a function and an iterable and applies the function to each iterable:"
   ]
  },
  {
   "cell_type": "code",
   "execution_count": 3,
   "metadata": {},
   "outputs": [
    {
     "name": "stdout",
     "output_type": "stream",
     "text": [
      "[0, 1, 4, 9, 16, 25, 36, 49, 64, 81]\n"
     ]
    }
   ],
   "source": [
    "# when applying a function to a bunch of data, maybe you would use list comprehension\n",
    "results = [do_science(x) for x in input_data]\n",
    "print(results)"
   ]
  },
  {
   "cell_type": "code",
   "execution_count": 4,
   "metadata": {},
   "outputs": [
    {
     "name": "stdout",
     "output_type": "stream",
     "text": [
      "[0, 1, 4, 9, 16, 25, 36, 49, 64, 81]\n"
     ]
    }
   ],
   "source": [
    "# however, here we use map to later explore its parallel implementations\n",
    "results = map(do_science, input_data)\n",
    "results = list(results)\n",
    "print(results)"
   ]
  },
  {
   "cell_type": "markdown",
   "metadata": {},
   "source": [
    "(watch out: `map` returns an iterator (->advanced python), you need to convert it to a list explicitly)."
   ]
  },
  {
   "cell_type": "markdown",
   "metadata": {},
   "source": [
    "### Questions?"
   ]
  },
  {
   "cell_type": "markdown",
   "metadata": {},
   "source": [
    "## Exercise\n",
    "Compute the cubes of numbers 0..9 using `map`."
   ]
  },
  {
   "cell_type": "code",
   "execution_count": 6,
   "metadata": {},
   "outputs": [
    {
     "data": {
      "text/plain": [
       "[0, 1, 8, 27, 64, 125, 216, 343, 512, 729]"
      ]
     },
     "execution_count": 6,
     "metadata": {},
     "output_type": "execute_result"
    }
   ],
   "source": [
    "input_data = range(10)\n",
    "def cube(x):\n",
    "    # TODO\n",
    "    return x ** 3\n",
    "results = map(cube, input_data)\n",
    "list(results)"
   ]
  },
  {
   "cell_type": "markdown",
   "metadata": {},
   "source": [
    "Questions:\n",
    "- What's the return type of `map`?\n",
    "- Can we also compute the *sum* of numbers `0..9` using map? -> no(t trivially). results of operations depend on each other. this is a contra-indicator for \"embarrassingly parallel\" problems"
   ]
  },
  {
   "cell_type": "markdown",
   "metadata": {},
   "source": [
    "# Embarassingly-parallel Python\n",
    "This type of problem is referred to as \"embarrassingly parallel\" problems. This indicates that they can be easily parallelized across threads or processes as they do not require interaction while running (they can also be run in serial!). For these types of problems, we can use the builtin `multiprocessing` module. It supports parallel versions of `map` which can be run either in parallel threads or parallel processes."
   ]
  },
  {
   "cell_type": "markdown",
   "metadata": {},
   "source": [
    "## Parallel threads\n",
    "We first work with the `ThreadPool` available from the `multiprocessing.pool` module. We assume CPython in which the GIL prevent several threads from executing in parallel. However, for some use cases, in particular those which are **I/O bound**, threading can be very useful. Consider for example obtaining data from some database: you would like to query a couple of measurements, and completing each of these queries may take some processing time on the server. Here we mimick this server-side processing time by merely sleeping."
   ]
  },
  {
   "cell_type": "code",
   "execution_count": 26,
   "metadata": {},
   "outputs": [],
   "source": [
    "from multiprocessing.pool import ThreadPool\n",
    "import time"
   ]
  },
  {
   "cell_type": "code",
   "execution_count": 27,
   "metadata": {},
   "outputs": [],
   "source": [
    "def query_database(x):\n",
    "    \"\"\"Query your database to retrieve awesome measurements.\"\"\"\n",
    "    print(f'querying data {x} start')\n",
    "    time.sleep(x)  # mimicks (input-dependent) server-side processing\n",
    "    y = x ** 2\n",
    "    print(f'querying data {x} end')\n",
    "    return y"
   ]
  },
  {
   "cell_type": "code",
   "execution_count": 30,
   "metadata": {},
   "outputs": [],
   "source": [
    "input_data = [1, 8, 1.5, 2]  # some dummy queries"
   ]
  },
  {
   "cell_type": "markdown",
   "metadata": {},
   "source": [
    "First, we use the builtin `map` function to perform the database query for each item in l:"
   ]
  },
  {
   "cell_type": "code",
   "execution_count": 31,
   "metadata": {},
   "outputs": [
    {
     "name": "stdout",
     "output_type": "stream",
     "text": [
      "querying data 1 start\n",
      "querying data 1 end\n",
      "querying data 8 start\n",
      "querying data 8 end\n",
      "querying data 1.5 start\n",
      "querying data 1.5 end\n",
      "querying data 2 start\n",
      "querying data 2 end\n",
      "[1, 64, 2.25, 4]\n",
      "CPU times: user 2.76 ms, sys: 7.31 ms, total: 10.1 ms\n",
      "Wall time: 12.5 s\n"
     ]
    }
   ],
   "source": [
    "%%time\n",
    "result = list(map(query_database, input_data))\n",
    "print(result)"
   ]
  },
  {
   "cell_type": "markdown",
   "metadata": {},
   "source": [
    "Observations?\n",
    "- queries processed in serial, one after the other\n",
    "- total duration is the sum of the duration of each query "
   ]
  },
  {
   "cell_type": "markdown",
   "metadata": {},
   "source": [
    "Now, we use use `ThreadPool` do perform these queries using two threads (here the `processes` argument actually refers to the number of threads):"
   ]
  },
  {
   "cell_type": "code",
   "execution_count": 33,
   "metadata": {},
   "outputs": [
    {
     "name": "stdout",
     "output_type": "stream",
     "text": [
      "querying data 1 start\n",
      "querying data 8 start\n",
      "querying data 1 end\n",
      "querying data 1.5 start\n",
      "querying data 1.5 end\n",
      "querying data 2 start\n",
      "querying data 2 end\n",
      "querying data 8 end\n",
      "CPU times: user 9.06 ms, sys: 8.41 ms, total: 17.5 ms\n",
      "Wall time: 8.03 s\n"
     ]
    }
   ],
   "source": [
    "%%time\n",
    "pool = ThreadPool(processes=2)\n",
    "result = pool.map(query_database, input_data)\n",
    "pool.close()\n",
    "\n",
    "#with ThreadPool(processes=2) as pool:  # context manager providing a `ThreadPool` instance\n",
    "#    result = pool.map(query_database, input_data)\n",
    "#print(result)"
   ]
  },
  {
   "cell_type": "markdown",
   "metadata": {},
   "source": [
    "Observations?\n",
    "- results are identical to serial processing of queries; good!\n",
    "- total duration is reduced: work (here: waiting for results) is distributed across threads\n",
    "- allocation: queries are performed in order; thread 0 works on query 0, thread 1 on query 1, thread 0 on the rest while thread 1 is busy with query 1\n",
    "- caveat: optimal number of threads may be difficult to determine (depends on use case! more threads also means more switching!)\n",
    "- caveat: load is not automatically ordered optimally (`ThreadPool` can not know how long each query takes); in our example if long query is the last, total duration increases"
   ]
  },
  {
   "cell_type": "code",
   "execution_count": null,
   "metadata": {},
   "outputs": [],
   "source": [
    "input_data = [1, 1.5, 2, 8]  # some dummy queries"
   ]
  },
  {
   "cell_type": "code",
   "execution_count": null,
   "metadata": {},
   "outputs": [],
   "source": [
    "%%time\n",
    "with ThreadPool(processes=2) as pool:\n",
    "    result = pool.map(query_database, input_data)\n",
    "print(result)"
   ]
  },
  {
   "cell_type": "markdown",
   "metadata": {},
   "source": [
    "### Questions?"
   ]
  },
  {
   "cell_type": "markdown",
   "metadata": {},
   "source": [
    "## Exercise\n",
    "A once-in-a-lifetime opportunity presents itself: you have access to a database holding secret information about ASPP. You can sent queries to it using the `query_secret_aspp_database` function, which expects a single (arbitrary) argument. First, implement a serial version, processing several (4+) queries. Then use the `ThreadPool` to parallelize your code. Time both versions and compare their execution times."
   ]
  },
  {
   "cell_type": "code",
   "execution_count": null,
   "metadata": {},
   "outputs": [],
   "source": [
    "from secret_aspp_database import query_secret_aspp_database"
   ]
  },
  {
   "cell_type": "code",
   "execution_count": null,
   "metadata": {},
   "outputs": [],
   "source": [
    "%%time\n",
    "# TODO fill me with the serial version\n",
    "queries = ['42', 3.1415, 8162371823.123, 'pelita', 'ajwdiauwdiuahwiduhawdiuhawd']\n",
    "list(map(query_secret_aspp_database, queries))"
   ]
  },
  {
   "cell_type": "code",
   "execution_count": null,
   "metadata": {},
   "outputs": [],
   "source": [
    "%%time\n",
    "# TODO fill me with the parallel version\n",
    "with ThreadPool(processes=2) as pool:\n",
    "    result = pool.map(query_secret_aspp_database, queries)\n",
    "result"
   ]
  },
  {
   "cell_type": "markdown",
   "metadata": {},
   "source": [
    "# Thread-parallel(?) number crunching\n",
    "Now let's consider a compute-intense number-crunching task, for example tuning hyperparameters our fancy neural network model to squeeze out the additional 0.0002% increase in accuracy. Here we mimick the training by merely counting down from a large number (let's avoid cognitive overhead)."
   ]
  },
  {
   "cell_type": "code",
   "execution_count": 34,
   "metadata": {},
   "outputs": [],
   "source": [
    "def train_neural_network(x):\n",
    "    \"\"\"Train your favourite neural network model.\"\"\"\n",
    "    print(f'training with {x} start')\n",
    "    n = x * 2e7  # mimick compute-intense training\n",
    "    while n > 0:\n",
    "        n -= 1\n",
    "    y = x ** 2\n",
    "    print(f'training with {x} end')\n",
    "    return y"
   ]
  },
  {
   "cell_type": "code",
   "execution_count": 35,
   "metadata": {},
   "outputs": [],
   "source": [
    "input_data = [1, 8, 1.5, 2]  # some dummy simulations"
   ]
  },
  {
   "cell_type": "markdown",
   "metadata": {},
   "source": [
    "Again, first, we use the builtin `map` function to perform the number crunching serially for each item in l:"
   ]
  },
  {
   "cell_type": "code",
   "execution_count": 36,
   "metadata": {},
   "outputs": [
    {
     "name": "stdout",
     "output_type": "stream",
     "text": [
      "training with 1 start\n",
      "training with 1 end\n",
      "training with 8 start\n",
      "training with 8 end\n",
      "training with 1.5 start\n",
      "training with 1.5 end\n",
      "training with 2 start\n",
      "training with 2 end\n",
      "[1, 64, 2.25, 4]\n",
      "CPU times: user 27.3 s, sys: 0 ns, total: 27.3 s\n",
      "Wall time: 27.5 s\n"
     ]
    }
   ],
   "source": [
    "%%time\n",
    "result = list(map(train_neural_network, input_data))\n",
    "print(result)"
   ]
  },
  {
   "cell_type": "markdown",
   "metadata": {},
   "source": [
    "Observations:\n",
    "- number crunching causes high CPU load (surprise! ;) )"
   ]
  },
  {
   "cell_type": "markdown",
   "metadata": {},
   "source": [
    "Now, we use again use `ThreadPool` do parallelize this work using two threads:"
   ]
  },
  {
   "cell_type": "code",
   "execution_count": 37,
   "metadata": {},
   "outputs": [
    {
     "name": "stdout",
     "output_type": "stream",
     "text": [
      "training with 1 starttraining with 8 start\n",
      "\n",
      "training with 1 end\n",
      "training with 1.5 start\n",
      "training with 1.5 end\n",
      "training with 2 start\n",
      "training with 2 end\n",
      "training with 8 end\n",
      "[1, 64, 2.25, 4]\n",
      "CPU times: user 26.3 s, sys: 0 ns, total: 26.3 s\n",
      "Wall time: 26.8 s\n"
     ]
    }
   ],
   "source": [
    "%%time\n",
    "with ThreadPool(processes=2) as pool:\n",
    "    result = pool.map(train_neural_network, input_data)\n",
    "print(result)"
   ]
  },
  {
   "cell_type": "markdown",
   "metadata": {},
   "source": [
    "Observations?\n",
    "- runtime (almost) identical to serial execution: GIL prevents simultaneous number crunching. :'(\n",
    "\n",
    "Questions:\n",
    "- what is the return type of `pool.map`? -> list\n",
    "- why is this different than the return type of `map`? -> normal map: delayed execution is desired, with pool you want to do the computation immediately (and in parallel)"
   ]
  },
  {
   "cell_type": "markdown",
   "metadata": {},
   "source": [
    "# Parallel processes\n",
    "For such tasks, we use the `ProcessPool`. In contrast to the `ThreadPool` this distributes work across multiple processes running separate instances of the Python interpreter. This allows you to circumvent the limitations of the GIL and achieve truly parallel code execution. For use cases which are **compute bound**, it is an excellent, simple-to-use option. As already introduced above, these use cases may include numerical simulations, sampling methods etc. Unfortunately, using multiple processes introduces some downsides, such as some overhead (time & memory) for launching processes and increased memory consumption (e.g., duplication of data; warning: depends on implementation and use case)."
   ]
  },
  {
   "cell_type": "code",
   "execution_count": 4,
   "metadata": {},
   "outputs": [],
   "source": [
    "from multiprocessing.pool import Pool as ProcessPool"
   ]
  },
  {
   "cell_type": "code",
   "execution_count": 40,
   "metadata": {},
   "outputs": [
    {
     "name": "stdout",
     "output_type": "stream",
     "text": [
      "training with 1 start\n",
      "training with 8 start\n",
      "training with 1 end\n",
      "training with 1.5 start\n",
      "training with 1.5 end\n",
      "training with 2 start\n",
      "training with 2 end\n",
      "training with 8 end\n",
      "[1, 64, 2.25, 4]\n",
      "CPU times: user 40.9 ms, sys: 0 ns, total: 40.9 ms\n",
      "Wall time: 19.6 s\n"
     ]
    }
   ],
   "source": [
    "%%time\n",
    "with ProcessPool(processes=2) as pool:  # context manager providing a `Pool` instance\n",
    "    result = pool.map(train_neural_network, input_data)\n",
    "print(result)"
   ]
  },
  {
   "cell_type": "markdown",
   "metadata": {},
   "source": [
    "Observations?\n",
    "- results are identical to serial and threaded execution; good!\n",
    "- runtime is reduced compared to both serial and threaded execution\n",
    "- increased CPU load on multiple cores\n",
    "- caveat: as before, no automatic load balancing, tasks are executed in order\n",
    "\n",
    "Questions:\n",
    "- What is the fundamental difference between threads and processes? -> memory shared across threads, by default not across processes\n",
    "- How does the data get from the main thread to the worker thread? -> shared memory (direct access)\n",
    "- How does the data get from the main process to the worker process? -> communication (sending serialized data (in Python: pickle -> problems with stuff that's not picklable), or set up shared memory)"
   ]
  },
  {
   "cell_type": "markdown",
   "metadata": {},
   "source": [
    "### Parallel speedup\n",
    "So how much faster does my code become when I'm increasing the number of processes? Here we investigate the relative speedup ($T_\\textrm{parallel} / T_\\textrm{serial}$) for an increasing number of processes. We use the same compute-bound function as before, but remove some of the annoying output and make it a bit shorter."
   ]
  },
  {
   "cell_type": "code",
   "execution_count": 45,
   "metadata": {},
   "outputs": [
    {
     "data": {
      "text/plain": [
       "[0.043039798736572266,\n",
       " 0.03096604347229004,\n",
       " 0.04002118110656738,\n",
       " 0.04499959945678711,\n",
       " 0.051397085189819336,\n",
       " 0.05700969696044922,\n",
       " 0.07579755783081055,\n",
       " 0.07624220848083496]"
      ]
     },
     "execution_count": 45,
     "metadata": {},
     "output_type": "execute_result"
    }
   ],
   "source": [
    "import time\n",
    "import numpy as np\n",
    "\n",
    "def train_neural_network(x):\n",
    "    \"\"\"Train your favourite neural network model.\"\"\"\n",
    "    n = x * 1e6  # mimick compute-intense training\n",
    "    while n > 0:\n",
    "        n -= 1\n",
    "    y = x ** 2\n",
    "    return y\n",
    "\n",
    "\n",
    "input_data = [2] * 16  # some dummy simulations of equal duration\n",
    "times = []\n",
    "n_processes = np.arange(1, 9)\n",
    "for n in n_processes:\n",
    "    t0 = time.time()\n",
    "    with ProcessPool(processes=n) as pool:\n",
    "        result = pool.map(train_neural_network, input_data)\n",
    "    times.append(time.time() - t0)\n",
    "\n",
    "times"
   ]
  },
  {
   "cell_type": "code",
   "execution_count": 46,
   "metadata": {},
   "outputs": [
    {
     "data": {
      "text/plain": [
       "<matplotlib.legend.Legend at 0x7f7c016f69d0>"
      ]
     },
     "execution_count": 46,
     "metadata": {},
     "output_type": "execute_result"
    },
    {
     "data": {
      "image/png": "[encoded data removed]",
      "text/plain": [
       "<Figure size 432x288 with 1 Axes>"
      ]
     },
     "metadata": {
      "needs_background": "light"
     },
     "output_type": "display_data"
    }
   ],
   "source": [
    "%matplotlib inline\n",
    "import matplotlib.pyplot as plt\n",
    "import numpy as np\n",
    "\n",
    "times = np.array(times)\n",
    "fig, axes = plt.subplots()\n",
    "axes.plot(n_processes, 1.0 * n_processes, color='k', linestyle='--', label='ideal')\n",
    "axes.plot(n_processes, times[0] / times, marker='o', label='measured')\n",
    "axes.set_xlabel(r'$n$ processes')\n",
    "axes.set_ylabel('relative speedup')\n",
    "fig.legend()"
   ]
  },
  {
   "cell_type": "markdown",
   "metadata": {},
   "source": [
    "Observations\n",
    "- perfect speedup with 2-3 processes, (on some machines) good speedup until ~4-5 processes with decreasing benefits\n",
    "- no (significant) benefits for more processes\n",
    "- rule of thumb: benefits up to number of cores (OS also needs some compute: context switching; also hyperthreading does not seem to work well in my experience)\n",
    "\n",
    "Questions:\n",
    "- Can we combine `ProcessPools` with `ThreadPools` in the worker processes? -> yes, but benefit depends on use case"
   ]
  },
  {
   "cell_type": "markdown",
   "metadata": {},
   "source": [
    "\n",
    "\n",
    "# Exercise\n",
    "Implement your own compute-bound function. Compare it's runtime for different numbers of processes, similar as in our example above. In particular investigate the case of \"fast\" compute-bound functions. Discuss your results."
   ]
  },
  {
   "cell_type": "code",
   "execution_count": 7,
   "metadata": {},
   "outputs": [
    {
     "ename": "SyntaxError",
     "evalue": "invalid character in identifier (2696325191.py, line 4)",
     "output_type": "error",
     "traceback": [
      "\u001b[0;36m  File \u001b[0;32m\"/tmp/ipykernel_32513/2696325191.py\"\u001b[0;36m, line \u001b[0;32m4\u001b[0m\n\u001b[0;31m    input_data = …   # TODO: replace with meaningful input to your function\u001b[0m\n\u001b[0m                 ^\u001b[0m\n\u001b[0;31mSyntaxError\u001b[0m\u001b[0;31m:\u001b[0m invalid character in identifier\n"
     ]
    }
   ],
   "source": [
    "def crunch_numbers(x):\n",
    "    pass  # TODO replace with some number crunching\n",
    "\n",
    "input_data = …   # TODO: replace with meaningful input to your function\n",
    "times = []\n",
    "for n_processes in range(1, 9):\n",
    "    t0 = time.time()\n",
    "    with ProcessPool(processes=n_processes) as pool:\n",
    "        results = pool.map(crunch_numbers, input_data)\n",
    "    times.append(time.time() - t0)\n",
    "\n",
    "times"
   ]
  },
  {
   "cell_type": "markdown",
   "metadata": {},
   "source": [
    "### Questions\n",
    "- We get got a speedup. Could we get a slowdown?"
   ]
  },
  {
   "cell_type": "markdown",
   "metadata": {},
   "source": [
    "# Multiprocessing, but with numpy\n",
    "Let's consider a similar example as before (number crunching!) but now we leverage additional libraries to speed up the computation. In this example we will use numpy to perform maxtrix multiplications (dot products). To be fast, numpy (and many other libraries) rely on implementations of computationally expensive function in *compiled* language (e.g., C++). This is great, but unfortunately may interfere with multiprocessing at the Python level, since the compiled function can leverage parallelization too! To illustrate this point, let's consider a compute-intense function which just performs matrix multiplications. Again, we will compare the runtime of the serial with the parallel version (using multiple processes)."
   ]
  },
  {
   "cell_type": "code",
   "execution_count": 4,
   "metadata": {},
   "outputs": [],
   "source": [
    "# import os\n",
    "# os.environ[\"OMP_NUM_THREADS\"] = \"1\"\n",
    "\n",
    "from multiprocessing.pool import Pool as ProcessPool\n",
    "import numpy as np\n",
    "import time\n",
    "\n",
    "\n",
    "def train_neural_network(m):\n",
    "    \"\"\"Train your favourite neural network model.\"\"\"\n",
    "    y = np.mean(np.dot(m, m))  # mimick compute-intense training\n",
    "    return y\n",
    "\n",
    "n = 3_000\n",
    "# generate some random matrices as input\n",
    "input_data = [np.random.randn(n, n), np.random.randn(n, n), np.random.randn(n, n), np.random.randn(n, n)]"
   ]
  },
  {
   "cell_type": "code",
   "execution_count": 5,
   "metadata": {},
   "outputs": [
    {
     "name": "stdout",
     "output_type": "stream",
     "text": [
      "CPU times: user 5.87 s, sys: 31.8 ms, total: 5.9 s\n",
      "Wall time: 5.9 s\n"
     ]
    },
    {
     "data": {
      "text/plain": [
       "[0.02260239009863062,\n",
       " 0.019099992856037504,\n",
       " 0.0155115103447624,\n",
       " -0.003729112933788689]"
      ]
     },
     "execution_count": 5,
     "metadata": {},
     "output_type": "execute_result"
    }
   ],
   "source": [
    "%%time\n",
    "result = list(map(train_neural_network, input_data))\n",
    "result"
   ]
  },
  {
   "cell_type": "code",
   "execution_count": 6,
   "metadata": {},
   "outputs": [
    {
     "name": "stdout",
     "output_type": "stream",
     "text": [
      "[0.02260239009863062, 0.019099992856037504, 0.0155115103447624, -0.003729112933788689]\n",
      "CPU times: user 150 ms, sys: 194 ms, total: 344 ms\n",
      "Wall time: 2.73 s\n"
     ]
    }
   ],
   "source": [
    "%%time\n",
    "with ProcessPool(processes=4) as pool:\n",
    "    result = pool.map(train_neural_network, input_data)\n",
    "print(result)"
   ]
  },
  {
   "cell_type": "markdown",
   "metadata": {},
   "source": [
    "### Observations\n",
    "- Duration does not change (might actually be a bit longer) if we use multiple processes.\n",
    "- High load on all CPUs *even for the serial computation*. -> numpy parallelizes at a lower level\n",
    "- Solution: limit the number of threads numpy can use via the `OMP_NUM_THREADS` environment variable."
   ]
  },
  {
   "cell_type": "markdown",
   "metadata": {},
   "source": [
    "## Resources\n",
    "https://www.youtube.com/watch?v=AG1soUh4-nU\n"
   ]
  }
 ],
 "metadata": {
  "kernelspec": {
   "display_name": "Python 3 (ipykernel)",
   "language": "python",
   "name": "python3"
  },
  "language_info": {
   "codemirror_mode": {
    "name": "ipython",
    "version": 3
   },
   "file_extension": ".py",
   "mimetype": "text/x-python",
   "name": "python",
   "nbconvert_exporter": "python",
   "pygments_lexer": "ipython3",
   "version": "3.8.11"
  }
 },
 "nbformat": 4,
 "nbformat_minor": 2
}
