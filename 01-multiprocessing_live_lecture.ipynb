{
 "cells": [
  {
   "cell_type": "code",
   "execution_count": 1,
   "id": "730b0c8a",
   "metadata": {},
   "outputs": [
    {
     "data": {
      "text/plain": [
       "[0, 1, 4, 9, 16, 25, 36, 49, 64, 81]"
      ]
     },
     "execution_count": 1,
     "metadata": {},
     "output_type": "execute_result"
    }
   ],
   "source": [
    "def do_science(x):\n",
    "    \"\"\"\n",
    "    COMPUTE BOUND\n",
    "    preprocess brains\n",
    "    motion capture\n",
    "    evaluating a population of individual in a genetic algorithm\n",
    "    different trials of a GA \"multistart\"\n",
    "    different parameters for a simulation\n",
    "    \n",
    "    IO BOUND\n",
    "    crawl the internet\n",
    "    querying a database\n",
    "    \"\"\"\n",
    "    y = x ** 2\n",
    "    return y\n",
    "\n",
    "results = []\n",
    "input_data = range(10)\n",
    "for x in input_data:\n",
    "    r = do_science(x)\n",
    "    results.append(r)\n",
    "results"
   ]
  },
  {
   "cell_type": "code",
   "execution_count": 2,
   "id": "a7eb46a3",
   "metadata": {},
   "outputs": [
    {
     "data": {
      "text/plain": [
       "[0, 1, 4, 9, 16, 25, 36, 49, 64, 81]"
      ]
     },
     "execution_count": 2,
     "metadata": {},
     "output_type": "execute_result"
    }
   ],
   "source": [
    "results = [do_science(x) for x in input_data]\n",
    "results"
   ]
  },
  {
   "cell_type": "code",
   "execution_count": 5,
   "id": "c1851bf6",
   "metadata": {},
   "outputs": [
    {
     "data": {
      "text/plain": [
       "[0, 1, 4, 9, 16, 25, 36, 49, 64, 81]"
      ]
     },
     "execution_count": 5,
     "metadata": {},
     "output_type": "execute_result"
    }
   ],
   "source": [
    "results = map(do_science, input_data)\n",
    "results = list(results)\n",
    "results"
   ]
  },
  {
   "cell_type": "markdown",
   "id": "5f63cbc2",
   "metadata": {},
   "source": [
    "# Parallel threads (e.g, IO bound problems)"
   ]
  },
  {
   "cell_type": "code",
   "execution_count": 7,
   "id": "106351e1",
   "metadata": {},
   "outputs": [
    {
     "name": "stdout",
     "output_type": "stream",
     "text": [
      "CPU times: user 727 µs, sys: 4.17 ms, total: 4.89 ms\n",
      "Wall time: 4.51 s\n"
     ]
    },
    {
     "data": {
      "text/plain": [
       "[0, 1, 4, 9, 16, 25, 36, 49, 64, 81]"
      ]
     },
     "execution_count": 7,
     "metadata": {},
     "output_type": "execute_result"
    }
   ],
   "source": [
    "%%time\n",
    "import time\n",
    "\n",
    "def query_database(x):\n",
    "    time.sleep(0.1 * x)\n",
    "    y = x ** 2\n",
    "    return y\n",
    "\n",
    "input_data = range(10)\n",
    "results = list(map(query_database, input_data))\n",
    "results"
   ]
  },
  {
   "cell_type": "code",
   "execution_count": 11,
   "id": "0d7f5fa7",
   "metadata": {},
   "outputs": [
    {
     "name": "stdout",
     "output_type": "stream",
     "text": [
      "CPU times: user 8.82 ms, sys: 4.8 ms, total: 13.6 ms\n",
      "Wall time: 1.01 s\n"
     ]
    },
    {
     "data": {
      "text/plain": [
       "[0, 1, 4, 9, 16, 25, 36, 49, 64, 81]"
      ]
     },
     "execution_count": 11,
     "metadata": {},
     "output_type": "execute_result"
    }
   ],
   "source": [
    "%%time\n",
    "from multiprocessing.pool import ThreadPool\n",
    "\n",
    "# pool = ThreadPool(processes=2)\n",
    "# results = pool.map(query_database, input_data)\n",
    "# pool.close()\n",
    "\n",
    "with ThreadPool() as pool:\n",
    "    results = pool.map(query_database, input_data)\n",
    "results"
   ]
  },
  {
   "cell_type": "code",
   "execution_count": 10,
   "id": "5a6b9383",
   "metadata": {},
   "outputs": [
    {
     "data": {
      "text/plain": [
       "8"
      ]
     },
     "execution_count": 10,
     "metadata": {},
     "output_type": "execute_result"
    }
   ],
   "source": [
    "import multiprocessing\n",
    "multiprocessing.cpu_count()"
   ]
  },
  {
   "cell_type": "code",
   "execution_count": 12,
   "id": "56a7d031",
   "metadata": {},
   "outputs": [
    {
     "name": "stdout",
     "output_type": "stream",
     "text": [
      "CPU times: user 6.11 s, sys: 3.01 ms, total: 6.11 s\n",
      "Wall time: 6.08 s\n"
     ]
    },
    {
     "data": {
      "text/plain": [
       "[1.0, 10.240000000000002, 1.9599999999999997, 25]"
      ]
     },
     "execution_count": 12,
     "metadata": {},
     "output_type": "execute_result"
    }
   ],
   "source": [
    "%%time\n",
    "def preprocess_brains(x):\n",
    "    n = x * 1e7\n",
    "    while n > 0:\n",
    "        n -= 1\n",
    "    y = x ** 2\n",
    "    return y\n",
    "\n",
    "input_data = [1., 3.2, 1.4, 5]\n",
    "with ThreadPool() as pool:\n",
    "    results = pool.map(preprocess_brains, input_data)\n",
    "results"
   ]
  },
  {
   "cell_type": "code",
   "execution_count": 19,
   "id": "a056c22f",
   "metadata": {},
   "outputs": [
    {
     "name": "stdout",
     "output_type": "stream",
     "text": [
      "CPU times: user 4.33 s, sys: 0 ns, total: 4.33 s\n",
      "Wall time: 4.32 s\n"
     ]
    },
    {
     "data": {
      "text/plain": [
       "[4.0, 4.0, 4.0, 4.0]"
      ]
     },
     "execution_count": 19,
     "metadata": {},
     "output_type": "execute_result"
    }
   ],
   "source": [
    "%%time\n",
    "input_data = [2.0] * 10\n",
    "results = list(map(preprocess_brains, input_data))\n",
    "results"
   ]
  },
  {
   "cell_type": "code",
   "execution_count": 23,
   "id": "befe109e",
   "metadata": {},
   "outputs": [
    {
     "name": "stdout",
     "output_type": "stream",
     "text": [
      "CPU times: user 16.3 ms, sys: 12.3 ms, total: 28.5 ms\n",
      "Wall time: 10.8 s\n"
     ]
    },
    {
     "data": {
      "text/plain": [
       "[4.0, 4.0, 4.0, 4.0, 4.0, 4.0, 4.0, 4.0, 4.0, 4.0]"
      ]
     },
     "execution_count": 23,
     "metadata": {},
     "output_type": "execute_result"
    }
   ],
   "source": [
    "%%time\n",
    "from multiprocessing.pool import Pool as ProcessPool\n",
    "\n",
    "input_data = [2.0] * 10\n",
    "with ProcessPool(processes=1) as pool:\n",
    "    results = pool.map(preprocess_brains, input_data)\n",
    "results"
   ]
  },
  {
   "cell_type": "code",
   "execution_count": 27,
   "id": "5012bdc7",
   "metadata": {},
   "outputs": [
    {
     "data": {
      "text/plain": [
       "[0.016046762466430664,\n",
       " 0.0173184871673584,\n",
       " 0.022770166397094727,\n",
       " 0.025600194931030273,\n",
       " 0.030436038970947266,\n",
       " 0.035277605056762695,\n",
       " 0.04087376594543457,\n",
       " 0.04527020454406738,\n",
       " 0.058035850524902344,\n",
       " 0.060163021087646484,\n",
       " 0.06758904457092285]"
      ]
     },
     "execution_count": 27,
     "metadata": {},
     "output_type": "execute_result"
    }
   ],
   "source": [
    "import time\n",
    "from multiprocessing.pool import Pool as ProcessPool\n",
    "import multiprocessing\n",
    "import numpy as np\n",
    "\n",
    "\n",
    "def preprocess_brains(x):\n",
    "    n = x * 1e2\n",
    "    while n > 0:\n",
    "        n -= 1\n",
    "    y = x ** 2\n",
    "    return y\n",
    "\n",
    "\n",
    "input_data = [2] * 16  # some dummy simulations of equal duration\n",
    "times = []\n",
    "n_processes = np.arange(1, multiprocessing.cpu_count() + 4)\n",
    "for n in n_processes:\n",
    "    t0 = time.time()\n",
    "    with ProcessPool(processes=n) as pool:\n",
    "        result = pool.map(preprocess_brains, input_data)\n",
    "    times.append(time.time() - t0)\n",
    "\n",
    "times"
   ]
  },
  {
   "cell_type": "code",
   "execution_count": 28,
   "id": "18f7c59d",
   "metadata": {},
   "outputs": [
    {
     "data": {
      "text/plain": [
       "<matplotlib.legend.Legend at 0x7f9f849551f0>"
      ]
     },
     "execution_count": 28,
     "metadata": {},
     "output_type": "execute_result"
    },
    {
     "data": {
      "image/png": "[encoded data removed]",
      "text/plain": [
       "<Figure size 432x288 with 1 Axes>"
      ]
     },
     "metadata": {
      "needs_background": "light"
     },
     "output_type": "display_data"
    }
   ],
   "source": [
    "import matplotlib.pyplot as plt\n",
    "import numpy as np\n",
    "\n",
    "times = np.array(times)\n",
    "fig, axes = plt.subplots()\n",
    "axes.plot(n_processes, 1.0 * n_processes, color='k', linestyle='--', label='ideal')\n",
    "axes.plot(n_processes, times[0] / times, marker='o', label='measured')\n",
    "axes.set_xlabel(r'$n$ processes')\n",
    "axes.set_ylabel('relative speedup')\n",
    "fig.legend()"
   ]
  },
  {
   "cell_type": "code",
   "execution_count": null,
   "id": "acec0f39",
   "metadata": {},
   "outputs": [],
   "source": []
  }
 ],
 "metadata": {
  "kernelspec": {
   "display_name": "Python 3 (ipykernel)",
   "language": "python",
   "name": "python3"
  },
  "language_info": {
   "codemirror_mode": {
    "name": "ipython",
    "version": 3
   },
   "file_extension": ".py",
   "mimetype": "text/x-python",
   "name": "python",
   "nbconvert_exporter": "python",
   "pygments_lexer": "ipython3",
   "version": "3.8.11"
  }
 },
 "nbformat": 4,
 "nbformat_minor": 5
}
